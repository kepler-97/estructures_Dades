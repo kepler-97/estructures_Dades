{
 "cells": [
  {
   "cell_type": "markdown",
   "id": "261f57ed",
   "metadata": {},
   "source": [
    "# ESTRUCTURA DE DADES\n",
    "![Greendivider](greendivider.png)",
    "S03_T01"
   ]
  },
  {
   "cell_type": "markdown",
   "id": "8f9c68d0",
   "metadata": {},
   "source": [
    "### EXERCICI_1\n",
    "---"
   ]
  },
  {
   "cell_type": "code",
   "execution_count": 1,
   "id": "ab6b934f",
   "metadata": {},
   "outputs": [],
   "source": [
    "trim = ([\"Gener\", \"Febrer\", \"Març\"], \n",
    "        [\"Abril\", \"Maig\", \"Juny\"], \n",
    "        [\"Juliol\", \"Agost\", \"Setembre\"], \n",
    "        [\"Octubre\", \"Novembre\", \"Desembre\"])\n"
   ]
  },
  {
   "cell_type": "markdown",
   "id": "7f51fd18",
   "metadata": {},
   "source": [
    "### EXERCICI_2\n",
    "---"
   ]
  },
  {
   "cell_type": "code",
   "execution_count": 2,
   "id": "eb78b3ed",
   "metadata": {},
   "outputs": [
    {
     "name": "stdout",
     "output_type": "stream",
     "text": [
      "Febrer\n",
      "['Gener', 'Febrer', 'Març']\n",
      "Setembre i Octubre\n"
     ]
    }
   ],
   "source": [
    "trim = ([\"Gener\", \"Febrer\", \"Març\"], \n",
    "        [\"Abril\", \"Maig\", \"Juny\"], \n",
    "        [\"Juliol\", \"Agost\", \"Setembre\"], \n",
    "        [\"Octubre\", \"Novembre\", \"Desembre\"])\n",
    "\n",
    "print(trim[0][1]) # El segon mes del primer trimestre\n",
    "\n",
    "print(trim[0]) # Els mesos del primer trimestre\n",
    "\n",
    "print (trim[2][2],\"i\", trim[3][0]) # Setembre i Ocubre"
   ]
  },
  {
   "cell_type": "markdown",
   "id": "cee6e034",
   "metadata": {},
   "source": [
    "### EXERCICI_3\n",
    "---"
   ]
  },
  {
   "cell_type": "code",
   "execution_count": 3,
   "id": "b3188d75",
   "metadata": {},
   "outputs": [
    {
     "name": "stdout",
     "output_type": "stream",
     "text": [
      "[10, 10, 8, 2, 0, 5, 10, 9, 4]\n",
      "\n",
      "Quants números hi ha?  9\n",
      "\n",
      "Quantes vegades apareix el número '3'?  0\n",
      "\n",
      "Quantes vegades apareixen els nombres 3 i 4? 0\n",
      "\n",
      "Quin és el número més gran?  10\n",
      "\n",
      "Quins són els 3 números més petits? [0, 2, 4]\n",
      "\n",
      "Quin és el rang d’aquesta llista? range(0, 11)\n"
     ]
    }
   ],
   "source": [
    "import random\n",
    "\n",
    "azar = range(11)\n",
    "r = random.choices(list(range(11)), k = 9)\n",
    "print(r)\n",
    "\n",
    "\n",
    "print(\"\\nQuants números hi ha? \", len(r)) # Quants números hi ha?\n",
    "\n",
    "\n",
    "a = r.count(3)\n",
    "print(\"\\nQuantes vegades apareix el número '3'? \", a) # Quantes vegades apareix el número '3'?\n",
    "\n",
    "\n",
    "z = r.count(3) and r.count(4) # Quantes vegades apareixen els nombres 3 i 4?\n",
    "print('\\nQuantes vegades apareixen els nombres 3 i 4?', z)\n",
    "\n",
    "\n",
    "max_r = max(r)\n",
    "print ('\\nQuin és el número més gran? ', max_r) # Quin és el número més gran?\n",
    "\n",
    "\n",
    "#r = list(set(sorted(r)))\n",
    "r = sorted(list(dict.fromkeys(r)))\n",
    "print('\\nQuins són els 3 números més petits?', r[0:3]) # Quins són els 3 números més petits?\n",
    "\n",
    "\n",
    "print('\\nQuin és el rang d’aquesta llista?', azar) # Quin és el rang d’aquesta llista?"
   ]
  },
  {
   "cell_type": "markdown",
   "id": "5f6c297a",
   "metadata": {},
   "source": [
    "### EXERCICI_4\n",
    "---"
   ]
  },
  {
   "cell_type": "code",
   "execution_count": 4,
   "id": "456e6a8b",
   "metadata": {},
   "outputs": [
    {
     "name": "stdout",
     "output_type": "stream",
     "text": [
      "Quant han costat les peres en total? 1.98 €\n",
      "\n",
      "Quantitat de fruites comprades: 10.00 u\n",
      "\n",
      "Quina es la fruita més cara? Pomes: 2.1€, Peres:1.98€, Banana:0.66€\n"
     ]
    }
   ],
   "source": [
    "compra = { \"Pomes\" : {\"Qty\": 5, \"€\": 0.42}, \"Peres\" : {\"Qty\": 3, \"€\": 0.66} }\n",
    "\n",
    "compra[\"Banana\"] = {\"Qty\": 2, \"€\": 0.33} # Afegeix alguna frutia mes\n",
    "\n",
    "\n",
    "total_Peres = compra['Peres']['Qty'] * compra['Peres']['€'] # Cost de les peres\n",
    "print(f'Quant han costat les peres en total? {total_Peres:.2f} €\\n')\n",
    "\n",
    "\n",
    "total_Fruites = compra['Peres']['Qty'] + compra['Pomes']['Qty'] + compra['Banana']['Qty']\n",
    "print(f'Quantitat de fruites comprades: {total_Fruites:.2f} u\\n') # Quantitat de fruites comprades\n",
    "\n",
    "\n",
    "Pomes = compra['Pomes']['Qty'] * compra['Pomes']['€'] # Quina és la fruita més cara?\n",
    "Peres = compra['Peres']['Qty'] * compra['Peres']['€']\n",
    "Banana = compra['Banana']['Qty'] * compra['Banana']['€']\n",
    "\n",
    "expensive = 'Quina es la fruita més cara? Pomes: {}€, Peres:{}€, Banana:{}€'.format(Pomes, Peres, Banana)\n",
    "print(expensive)\n"
   ]
  }
 ],
 "metadata": {
  "hide_input": false,
  "kernelspec": {
   "display_name": "Python 3",
   "language": "python",
   "name": "python3"
  },
  "language_info": {
   "codemirror_mode": {
    "name": "ipython",
    "version": 3
   },
   "file_extension": ".py",
   "mimetype": "text/x-python",
   "name": "python",
   "nbconvert_exporter": "python",
   "pygments_lexer": "ipython3",
   "version": "3.8.8"
  },
  "latex_envs": {
   "LaTeX_envs_menu_present": true,
   "autoclose": false,
   "autocomplete": true,
   "bibliofile": "biblio.bib",
   "cite_by": "apalike",
   "current_citInitial": 1,
   "eqLabelWithNumbers": true,
   "eqNumInitial": 1,
   "hotkeys": {
    "equation": "Ctrl-E",
    "itemize": "Ctrl-I"
   },
   "labels_anchors": false,
   "latex_user_defs": false,
   "report_style_numbering": false,
   "user_envs_cfg": false
  },
  "toc": {
   "base_numbering": 1,
   "nav_menu": {},
   "number_sections": false,
   "sideBar": true,
   "skip_h1_title": false,
   "title_cell": "Table of Contents",
   "title_sidebar": "Contents",
   "toc_cell": false,
   "toc_position": {
    "height": "calc(100% - 180px)",
    "left": "10px",
    "top": "150px",
    "width": "202px"
   },
   "toc_section_display": true,
   "toc_window_display": false
  }
 },
 "nbformat": 4,
 "nbformat_minor": 5
}
